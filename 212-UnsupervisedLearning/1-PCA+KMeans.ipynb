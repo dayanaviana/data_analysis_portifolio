{
 "cells": [
  {
   "cell_type": "markdown",
   "metadata": {},
   "source": [
    "## Imports"
   ]
  },
  {
   "cell_type": "code",
   "execution_count": 29,
   "metadata": {},
   "outputs": [],
   "source": [
    "import pandas as pd\n",
    "import matplotlib.pyplot as plt"
   ]
  },
  {
   "cell_type": "code",
   "execution_count": 21,
   "metadata": {},
   "outputs": [
    {
     "name": "stdout",
     "output_type": "stream",
     "text": [
      "DF Shape (Rows,Columns)= (2484, 4)\n"
     ]
    }
   ],
   "source": [
    "# dataset source: https://www.kaggle.com/datasets/snehaanbhawal/resume-dataset\n",
    "filePath = \"../datasets/Resume/Resume.csv\"\n",
    "\n",
    "df = pd.read_csv(filePath, index_col=False)\n",
    "print(\"DF Shape (Rows,Columns)=\", df.shape)"
   ]
  },
  {
   "cell_type": "code",
   "execution_count": 22,
   "metadata": {},
   "outputs": [],
   "source": [
    "documentsList = df['Resume_str']"
   ]
  },
  {
   "cell_type": "code",
   "execution_count": 23,
   "metadata": {},
   "outputs": [
    {
     "name": "stdout",
     "output_type": "stream",
     "text": [
      "[[0.         0.         0.         ... 0.         0.         0.        ]\n",
      " [0.         0.         0.         ... 0.         0.         0.        ]\n",
      " [0.         0.         0.         ... 0.         0.         0.        ]\n",
      " ...\n",
      " [0.         0.         0.         ... 0.         0.         0.        ]\n",
      " [0.         0.         0.         ... 0.         0.         0.        ]\n",
      " [0.03646868 0.         0.         ... 0.         0.         0.        ]]\n",
      "['00' '000' '0001' ... 'òwaterfalló' 'últimos' 'ﬁlm']\n"
     ]
    }
   ],
   "source": [
    "# Import TfidfVectorizer\n",
    "from sklearn.feature_extraction.text import TfidfVectorizer\n",
    "# Create a TfidfVectorizer: tfidf\n",
    "tfidf = TfidfVectorizer() \n",
    "# Apply fit_transform to document: csr_mat\n",
    "# Transforms doc into a work frequency array (csr,matrix)\n",
    "csr_mat = tfidf.fit_transform(documentsList)\n",
    "# Print result of toarray() method\n",
    "print(csr_mat.toarray())\n",
    "# Get the words: words\n",
    "words = tfidf.get_feature_names_out()\n",
    "# Print words\n",
    "print(words)"
   ]
  },
  {
   "cell_type": "code",
   "execution_count": 24,
   "metadata": {},
   "outputs": [],
   "source": [
    "# Perform the necessary imports\n",
    "from sklearn.decomposition import TruncatedSVD\n",
    "from sklearn.cluster import KMeans\n",
    "from sklearn.pipeline import make_pipeline\n",
    "\n",
    "# Create a TruncatedSVD instance: svd\n",
    "svd = TruncatedSVD(n_components=50)\n",
    "\n",
    "# Create a KMeans instance: kmeans\n",
    "kmeans = KMeans(n_clusters=24)\n",
    "\n",
    "# Create a pipeline: pipeline\n",
    "pipeline = make_pipeline(svd,kmeans)"
   ]
  },
  {
   "cell_type": "code",
   "execution_count": 34,
   "metadata": {},
   "outputs": [
    {
     "data": {
      "image/png": "[encoded data removed]",
      "text/plain": [
       "<Figure size 640x480 with 1 Axes>"
      ]
     },
     "metadata": {},
     "output_type": "display_data"
    }
   ],
   "source": [
    "ks = range(1, 24)\n",
    "inertias = []\n",
    "for k in ks:\n",
    "    # Create a TruncatedSVD instance: svd\n",
    "    svd = TruncatedSVD(n_components=50)\n",
    "\n",
    "    # Create a KMeans instance: kmeans\n",
    "    kmeans = KMeans(n_clusters=k)\n",
    "\n",
    "    # Create a pipeline: pipeline\n",
    "    pipeline = make_pipeline(svd,kmeans)\n",
    "\n",
    "    # Fit the pipeline to articles\n",
    "    pipeline.fit(csr_mat)\n",
    "\n",
    "    # Calculate the cluster labels: labels\n",
    "    labels = pipeline.predict(csr_mat)\n",
    "    \n",
    "    # Append the inertia to the list of inertias\n",
    "    inertias.append(kmeans.inertia_)\n",
    "    \n",
    "# Plot ks vs inertias\n",
    "plt.plot(ks, inertias, '-o')\n",
    "plt.xlabel('number of clusters, k')\n",
    "plt.ylabel('inertia')\n",
    "plt.xticks(ks)\n",
    "plt.show()\n"
   ]
  },
  {
   "cell_type": "code",
   "execution_count": 26,
   "metadata": {},
   "outputs": [
    {
     "name": "stdout",
     "output_type": "stream",
     "text": [
      "      label                Category\n",
      "274       0  INFORMATION-TECHNOLOGY\n",
      "219       0  INFORMATION-TECHNOLOGY\n",
      "1296      0           DIGITAL-MEDIA\n",
      "279       0  INFORMATION-TECHNOLOGY\n",
      "1114      0              CONSULTANT\n",
      "...     ...                     ...\n",
      "820      23                 FITNESS\n",
      "819      23                 FITNESS\n",
      "818      23                 FITNESS\n",
      "838      23                 FITNESS\n",
      "846      23                 FITNESS\n",
      "\n",
      "[2484 rows x 2 columns]\n"
     ]
    }
   ],
   "source": [
    "# Fit the pipeline to articles\n",
    "pipeline.fit(csr_mat)\n",
    "\n",
    "# Calculate the cluster labels: labels\n",
    "labels = pipeline.predict(csr_mat)\n",
    "\n",
    "# Create a DataFrame aligning labels and categories: df1\n",
    "df1 = pd.DataFrame({'label': labels, 'Category': df['Category']})\n",
    "\n",
    "# Display df sorted by cluster label\n",
    "print(df1.sort_values('label'))\n"
   ]
  }
 ],
 "metadata": {
  "kernelspec": {
   "display_name": "Python 3",
   "language": "python",
   "name": "python3"
  },
  "language_info": {
   "codemirror_mode": {
    "name": "ipython",
    "version": 3
   },
   "file_extension": ".py",
   "mimetype": "text/x-python",
   "name": "python",
   "nbconvert_exporter": "python",
   "pygments_lexer": "ipython3",
   "version": "3.13.2"
  }
 },
 "nbformat": 4,
 "nbformat_minor": 2
}
